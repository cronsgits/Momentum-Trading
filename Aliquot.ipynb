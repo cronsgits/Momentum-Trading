{
 "cells": [
  {
   "cell_type": "markdown",
   "metadata": {},
   "source": [
    "## Aliquot seqeuences\n",
    "\n",
    "General suggestions\n",
    "- set up regular group meetings,\n",
    "- set up a shared folder to store your project,\n",
    "- collaborate on writing core pieces of the project.\n",
    "\n",
    "### This project\n",
    "\n",
    "The first task is to write code that will generate an aliquot sequence and allow you to categorise it. Later parts will build on this."
   ]
  },
  {
   "cell_type": "code",
   "execution_count": 1,
   "metadata": {},
   "outputs": [],
   "source": [
    "## The sum of divisors function was defined last week. You can rewrite that, or keep it.\n",
    "from number_theory_lecture_functions import make_mult_func\n",
    "\n",
    "## This is from the lecture:\n",
    "def sum_div_pp(p,e):\n",
    "    \"\"\"The sum of divisors of p**e.\"\"\"\n",
    "    return (p**(e+1)-1)//(p-1)      ##use integer division here to ensure the result has integer type.\n",
    "sum_div = make_mult_func(sum_div_pp)"
   ]
  },
  {
   "cell_type": "code",
   "execution_count": 2,
   "metadata": {},
   "outputs": [],
   "source": [
    "## This was the sum of divisors of n, including n.\n",
    "## So this is the sum of divisors, not including n.\n",
    "def sum_of_divisors(n):\n",
    "    if n==0:\n",
    "        return 0\n",
    "    return sum_div(n)-n"
   ]
  },
  {
   "cell_type": "code",
   "execution_count": 3,
   "metadata": {},
   "outputs": [
    {
     "data": {
      "text/plain": [
       "284"
      ]
     },
     "execution_count": 3,
     "metadata": {},
     "output_type": "execute_result"
    }
   ],
   "source": [
    "sum_of_divisors(220)"
   ]
  },
  {
   "cell_type": "code",
   "execution_count": 4,
   "metadata": {},
   "outputs": [
    {
     "data": {
      "text/plain": [
       "220"
      ]
     },
     "execution_count": 4,
     "metadata": {},
     "output_type": "execute_result"
    }
   ],
   "source": [
    "sum_of_divisors(284)"
   ]
  },
  {
   "cell_type": "code",
   "execution_count": 5,
   "metadata": {},
   "outputs": [
    {
     "name": "stdout",
     "output_type": "stream",
     "text": [
      "276\n",
      "396\n",
      "696\n",
      "1104\n",
      "1872\n",
      "3770\n",
      "3790\n",
      "3050\n",
      "2716\n",
      "2772\n",
      "5964\n",
      "10164\n",
      "19628\n",
      "19684\n",
      "22876\n",
      "26404\n"
     ]
    }
   ],
   "source": [
    "## An aliquot sequence is given by iterating.\n",
    "\n",
    "## Choose initial k:\n",
    "k=276\n",
    "## Try 37, 220, 562, 276.\n",
    "\n",
    "## This just prints the sequence:\n",
    "print(k)\n",
    "for j in range(15):\n",
    "    k=sum_of_divisors(k)\n",
    "    print(k)\n",
    "\n",
    "## You should write a function to do this. It would be best to stop the iteration if it reaches zero."
   ]
  },
  {
   "cell_type": "markdown",
   "metadata": {},
   "source": [
    "In theory there are three things that can happen:\n",
    "\n",
    "1. The sequence goes to zero and terminates,\n",
    "2. The sequence enters a loop,\n",
    "3. The sequence diverges.\n",
    "\n",
    "The first two can be detected but the third is harder. In practice, it is a \"don't know\" option. For this project, it makes sense to classify 4 types by spitting the last case in two.\n",
    "\n",
    "Take two extra constraints which will allow your function to give up. First, `n` which is a maximum number of elements of the sequence to calculate. (This is 15 above.) Second `i` is a cap of how large the elements of the sequence can be. The sum of divisors relies on factoring and this can become slow when the numbers are large. The size of the number is not a perfect measure of how difficult it is to factor but it is something.\n",
    "\n",
    "Then classify aliquot seqeunces into the four types:\n",
    "1. The sequence goes to zero and terminates,\n",
    "2. The sequence enters a loop,\n",
    "3. An element of the sequence was larger than `i` (so the calculation was aborted),\n",
    "4. After the first `n` elements of the sequence none of these happened.\n",
    "\n",
    "Of course, this will depend on the constraints. Increasing them will give you better results but will increase calculation time."
   ]
  },
  {
   "cell_type": "markdown",
   "metadata": {},
   "source": [
    "## Final project\n",
    "\n",
    "Your project should be a jupyter notebook. Your notebook should contain a mixture of text cells (\"Markdown\") and code cells. Markdown cells can contain $\\LaTeX$ code -- in fact you can double click these cells in lecture notes and tutorials to see. Your notebook should explain the background and how the different parts of the project fit together. You should clearly explain how your code works. It might be appropriate to have a high-level overview in Markdown cells as well as comments in the code itself."
   ]
  },
  {
   "cell_type": "code",
   "execution_count": null,
   "metadata": {},
   "outputs": [],
   "source": []
  }
 ],
 "metadata": {
  "kernelspec": {
   "display_name": "Python 3",
   "language": "python",
   "name": "python3"
  },
  "language_info": {
   "codemirror_mode": {
    "name": "ipython",
    "version": 3
   },
   "file_extension": ".py",
   "mimetype": "text/x-python",
   "name": "python",
   "nbconvert_exporter": "python",
   "pygments_lexer": "ipython3",
   "version": "3.6.5"
  }
 },
 "nbformat": 4,
 "nbformat_minor": 2
}
